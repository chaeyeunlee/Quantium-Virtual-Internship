{
 "cells": [
  {
   "cell_type": "markdown",
   "id": "c37e786c",
   "metadata": {},
   "source": [
    "# Task 2-Experimentation and Uplift testing\n",
    "\n",
    "Julia has asked us to evaluate the performance of a store trial which was performed in stores 77, 86 and 88.\n",
    "\n",
    "This can be broken down by:\n",
    "\n",
    "1. total sales revenue\n",
    "2. total number of customers\n",
    "3. average number of transactions per customer\n",
    "\n",
    "Create a measure to compare different control stores to each of the trial stores to do this write a function to reduce having to re-do the analysis for each trial store. Consider using Pearson correlations or a metric such as a magnitude distance e.g. 1- (Observed distance – minimum distance)/(Maximum distance – minimum distance) as a measure.\n",
    "\n",
    "Once you have selected your control stores, compare each trial and control pair during the trial period. You want to test if total sales are significantly different in the trial period and if so, check if the driver of change is more purchasing customers or more purchases per customers etc.\n",
    "\n",
    "Main areas of Focus are :\n",
    "\n",
    "1. Select control stores – Explore data, define metrics, visualize graphs\n",
    "2. Assessment of the trial – insights/trends by comparing trial stores with control stores\n",
    "3. Collate findings – summarize and provide recommendations\n"
   ]
  },
  {
   "cell_type": "code",
   "execution_count": 1,
   "id": "d42e7c42",
   "metadata": {},
   "outputs": [
    {
     "data": {
      "text/html": [
       "<div>\n",
       "<style scoped>\n",
       "    .dataframe tbody tr th:only-of-type {\n",
       "        vertical-align: middle;\n",
       "    }\n",
       "\n",
       "    .dataframe tbody tr th {\n",
       "        vertical-align: top;\n",
       "    }\n",
       "\n",
       "    .dataframe thead th {\n",
       "        text-align: right;\n",
       "    }\n",
       "</style>\n",
       "<table border=\"1\" class=\"dataframe\">\n",
       "  <thead>\n",
       "    <tr style=\"text-align: right;\">\n",
       "      <th></th>\n",
       "      <th>DATE</th>\n",
       "      <th>STORE_NBR</th>\n",
       "      <th>LYLTY_CARD_NBR</th>\n",
       "      <th>TXN_ID</th>\n",
       "      <th>PROD_NBR</th>\n",
       "      <th>PROD_NAME</th>\n",
       "      <th>PROD_QTY</th>\n",
       "      <th>TOT_SALES</th>\n",
       "      <th>PACK_SIZE</th>\n",
       "      <th>BRAND</th>\n",
       "      <th>LIFESTAGE</th>\n",
       "      <th>PREMIUM_CUSTOMER</th>\n",
       "    </tr>\n",
       "  </thead>\n",
       "  <tbody>\n",
       "    <tr>\n",
       "      <th>0</th>\n",
       "      <td>2018-10-17</td>\n",
       "      <td>1</td>\n",
       "      <td>1000</td>\n",
       "      <td>1</td>\n",
       "      <td>5</td>\n",
       "      <td>Natural Chip        Compny SeaSalt175g</td>\n",
       "      <td>2</td>\n",
       "      <td>6.0</td>\n",
       "      <td>175</td>\n",
       "      <td>Natural</td>\n",
       "      <td>YOUNG SINGLES/COUPLES</td>\n",
       "      <td>Premium</td>\n",
       "    </tr>\n",
       "    <tr>\n",
       "      <th>1</th>\n",
       "      <td>2019-05-14</td>\n",
       "      <td>1</td>\n",
       "      <td>1307</td>\n",
       "      <td>348</td>\n",
       "      <td>66</td>\n",
       "      <td>CCs Nacho Cheese    175g</td>\n",
       "      <td>3</td>\n",
       "      <td>6.3</td>\n",
       "      <td>175</td>\n",
       "      <td>CCs</td>\n",
       "      <td>MIDAGE SINGLES/COUPLES</td>\n",
       "      <td>Budget</td>\n",
       "    </tr>\n",
       "    <tr>\n",
       "      <th>2</th>\n",
       "      <td>2019-05-20</td>\n",
       "      <td>1</td>\n",
       "      <td>1343</td>\n",
       "      <td>383</td>\n",
       "      <td>61</td>\n",
       "      <td>Smiths Crinkle Cut  Chips Chicken 170g</td>\n",
       "      <td>2</td>\n",
       "      <td>2.9</td>\n",
       "      <td>170</td>\n",
       "      <td>Smiths</td>\n",
       "      <td>MIDAGE SINGLES/COUPLES</td>\n",
       "      <td>Budget</td>\n",
       "    </tr>\n",
       "    <tr>\n",
       "      <th>3</th>\n",
       "      <td>2018-08-17</td>\n",
       "      <td>2</td>\n",
       "      <td>2373</td>\n",
       "      <td>974</td>\n",
       "      <td>69</td>\n",
       "      <td>Smiths Chip Thinly  S/Cream&amp;Onion 175g</td>\n",
       "      <td>5</td>\n",
       "      <td>15.0</td>\n",
       "      <td>175</td>\n",
       "      <td>Smiths</td>\n",
       "      <td>MIDAGE SINGLES/COUPLES</td>\n",
       "      <td>Budget</td>\n",
       "    </tr>\n",
       "    <tr>\n",
       "      <th>4</th>\n",
       "      <td>2018-08-18</td>\n",
       "      <td>2</td>\n",
       "      <td>2426</td>\n",
       "      <td>1038</td>\n",
       "      <td>108</td>\n",
       "      <td>Kettle Tortilla ChpsHny&amp;Jlpno Chili 150g</td>\n",
       "      <td>3</td>\n",
       "      <td>13.8</td>\n",
       "      <td>150</td>\n",
       "      <td>Kettle</td>\n",
       "      <td>MIDAGE SINGLES/COUPLES</td>\n",
       "      <td>Budget</td>\n",
       "    </tr>\n",
       "  </tbody>\n",
       "</table>\n",
       "</div>"
      ],
      "text/plain": [
       "         DATE  STORE_NBR  LYLTY_CARD_NBR  TXN_ID  PROD_NBR  \\\n",
       "0  2018-10-17          1            1000       1         5   \n",
       "1  2019-05-14          1            1307     348        66   \n",
       "2  2019-05-20          1            1343     383        61   \n",
       "3  2018-08-17          2            2373     974        69   \n",
       "4  2018-08-18          2            2426    1038       108   \n",
       "\n",
       "                                  PROD_NAME  PROD_QTY  TOT_SALES  PACK_SIZE  \\\n",
       "0    Natural Chip        Compny SeaSalt175g         2        6.0        175   \n",
       "1                  CCs Nacho Cheese    175g         3        6.3        175   \n",
       "2    Smiths Crinkle Cut  Chips Chicken 170g         2        2.9        170   \n",
       "3    Smiths Chip Thinly  S/Cream&Onion 175g         5       15.0        175   \n",
       "4  Kettle Tortilla ChpsHny&Jlpno Chili 150g         3       13.8        150   \n",
       "\n",
       "     BRAND               LIFESTAGE PREMIUM_CUSTOMER  \n",
       "0  Natural   YOUNG SINGLES/COUPLES          Premium  \n",
       "1      CCs  MIDAGE SINGLES/COUPLES           Budget  \n",
       "2   Smiths  MIDAGE SINGLES/COUPLES           Budget  \n",
       "3   Smiths  MIDAGE SINGLES/COUPLES           Budget  \n",
       "4   Kettle  MIDAGE SINGLES/COUPLES           Budget  "
      ]
     },
     "execution_count": 1,
     "metadata": {},
     "output_type": "execute_result"
    }
   ],
   "source": [
    "import pandas as pd\n",
    "import matplotlib.pyplot as plt\n",
    "%matplotlib inline\n",
    "import numpy as np\n",
    "     \n",
    "    \n",
    "\n",
    "qvi = pd.read_csv(\"Task1_completed.csv\")\n",
    "qvi.drop('Unnamed: 0', axis=1, inplace=True)\n",
    "qvi.head()"
   ]
  },
  {
   "cell_type": "code",
   "execution_count": 2,
   "id": "2ecddf7c",
   "metadata": {},
   "outputs": [
    {
     "name": "stdout",
     "output_type": "stream",
     "text": [
      "<class 'pandas.core.frame.DataFrame'>\n",
      "RangeIndex: 246740 entries, 0 to 246739\n",
      "Data columns (total 12 columns):\n",
      " #   Column            Non-Null Count   Dtype  \n",
      "---  ------            --------------   -----  \n",
      " 0   DATE              246740 non-null  object \n",
      " 1   STORE_NBR         246740 non-null  int64  \n",
      " 2   LYLTY_CARD_NBR    246740 non-null  int64  \n",
      " 3   TXN_ID            246740 non-null  int64  \n",
      " 4   PROD_NBR          246740 non-null  int64  \n",
      " 5   PROD_NAME         246740 non-null  object \n",
      " 6   PROD_QTY          246740 non-null  int64  \n",
      " 7   TOT_SALES         246740 non-null  float64\n",
      " 8   PACK_SIZE         246740 non-null  int64  \n",
      " 9   BRAND             246740 non-null  object \n",
      " 10  LIFESTAGE         246740 non-null  object \n",
      " 11  PREMIUM_CUSTOMER  246740 non-null  object \n",
      "dtypes: float64(1), int64(6), object(5)\n",
      "memory usage: 22.6+ MB\n"
     ]
    }
   ],
   "source": [
    "qvi.info()"
   ]
  },
  {
   "cell_type": "code",
   "execution_count": 3,
   "id": "dea3990f",
   "metadata": {},
   "outputs": [],
   "source": [
    "qvi[\"DATE\"] = pd.to_datetime(qvi[\"DATE\"])\n",
    "qvi[\"YEARMONTH\"] = qvi[\"DATE\"].dt.strftime(\"%Y%m\").astype(\"int\")"
   ]
  },
  {
   "cell_type": "markdown",
   "id": "3dfd6dbb",
   "metadata": {},
   "source": [
    "Compile each store's monthly:\n",
    "\n",
    "1. Total sales\n",
    "2. Number of customers,\n",
    "3. Average transactions per customer\n",
    "4. Average chips per customer\n",
    "5. Average price per unit"
   ]
  },
  {
   "cell_type": "code",
   "execution_count": 4,
   "id": "d5495dc3",
   "metadata": {},
   "outputs": [],
   "source": [
    "def monthly_store_metrics():\n",
    "    store_yrmo_group = qvi.groupby([\"STORE_NBR\", \"YEARMONTH\"])\n",
    "    total = store_yrmo_group[\"TOT_SALES\"].sum()\n",
    "    num_cust = store_yrmo_group[\"LYLTY_CARD_NBR\"].nunique()\n",
    "    trans_per_cust = store_yrmo_group.size() / num_cust\n",
    "    avg_chips_per_cust = store_yrmo_group[\"PROD_QTY\"].sum() / num_cust\n",
    "    avg_chips_price = total / store_yrmo_group[\"PROD_QTY\"].sum()\n",
    "    aggregates = [total, num_cust, trans_per_cust, avg_chips_per_cust, avg_chips_price]\n",
    "    metrics = pd.concat(aggregates, axis=1)\n",
    "    metrics.columns = [\"TOT_SALES\", \"nCustomers\", \"nTxnPerCust\", \"nChipsPerTxn\", \"avgPricePerUnit\"]\n",
    "    return metrics"
   ]
  },
  {
   "cell_type": "code",
   "execution_count": 5,
   "id": "65bb9abd",
   "metadata": {},
   "outputs": [
    {
     "name": "stdout",
     "output_type": "stream",
     "text": [
      "<class 'pandas.core.frame.DataFrame'>\n",
      "RangeIndex: 3165 entries, 0 to 3164\n",
      "Data columns (total 7 columns):\n",
      " #   Column           Non-Null Count  Dtype  \n",
      "---  ------           --------------  -----  \n",
      " 0   STORE_NBR        3165 non-null   int64  \n",
      " 1   YEARMONTH        3165 non-null   int64  \n",
      " 2   TOT_SALES        3165 non-null   float64\n",
      " 3   nCustomers       3165 non-null   int64  \n",
      " 4   nTxnPerCust      3165 non-null   float64\n",
      " 5   nChipsPerTxn     3165 non-null   float64\n",
      " 6   avgPricePerUnit  3165 non-null   float64\n",
      "dtypes: float64(4), int64(3)\n",
      "memory usage: 173.2 KB\n"
     ]
    }
   ],
   "source": [
    "qvi_monthly_metrics = monthly_store_metrics().reset_index()\n",
    "qvi_monthly_metrics.info()"
   ]
  },
  {
   "cell_type": "markdown",
   "id": "b91db997",
   "metadata": {},
   "source": [
    "### Pre-Trial Observation as this filter only stores with full 12 months observation"
   ]
  },
  {
   "cell_type": "code",
   "execution_count": 6,
   "id": "31aa6454",
   "metadata": {},
   "outputs": [
    {
     "data": {
      "text/html": [
       "<div>\n",
       "<style scoped>\n",
       "    .dataframe tbody tr th:only-of-type {\n",
       "        vertical-align: middle;\n",
       "    }\n",
       "\n",
       "    .dataframe tbody tr th {\n",
       "        vertical-align: top;\n",
       "    }\n",
       "\n",
       "    .dataframe thead th {\n",
       "        text-align: right;\n",
       "    }\n",
       "</style>\n",
       "<table border=\"1\" class=\"dataframe\">\n",
       "  <thead>\n",
       "    <tr style=\"text-align: right;\">\n",
       "      <th></th>\n",
       "      <th>STORE_NBR</th>\n",
       "      <th>YEARMONTH</th>\n",
       "      <th>TOT_SALES</th>\n",
       "      <th>nCustomers</th>\n",
       "      <th>nTxnPerCust</th>\n",
       "      <th>nChipsPerTxn</th>\n",
       "      <th>avgPricePerUnit</th>\n",
       "    </tr>\n",
       "  </thead>\n",
       "  <tbody>\n",
       "    <tr>\n",
       "      <th>0</th>\n",
       "      <td>1</td>\n",
       "      <td>201807</td>\n",
       "      <td>188.9</td>\n",
       "      <td>47</td>\n",
       "      <td>1.042553</td>\n",
       "      <td>1.234043</td>\n",
       "      <td>3.256897</td>\n",
       "    </tr>\n",
       "    <tr>\n",
       "      <th>1</th>\n",
       "      <td>1</td>\n",
       "      <td>201808</td>\n",
       "      <td>168.4</td>\n",
       "      <td>41</td>\n",
       "      <td>1.000000</td>\n",
       "      <td>1.268293</td>\n",
       "      <td>3.238462</td>\n",
       "    </tr>\n",
       "    <tr>\n",
       "      <th>2</th>\n",
       "      <td>1</td>\n",
       "      <td>201809</td>\n",
       "      <td>268.1</td>\n",
       "      <td>57</td>\n",
       "      <td>1.035088</td>\n",
       "      <td>1.245614</td>\n",
       "      <td>3.776056</td>\n",
       "    </tr>\n",
       "    <tr>\n",
       "      <th>3</th>\n",
       "      <td>1</td>\n",
       "      <td>201810</td>\n",
       "      <td>175.4</td>\n",
       "      <td>39</td>\n",
       "      <td>1.025641</td>\n",
       "      <td>1.307692</td>\n",
       "      <td>3.439216</td>\n",
       "    </tr>\n",
       "    <tr>\n",
       "      <th>4</th>\n",
       "      <td>1</td>\n",
       "      <td>201811</td>\n",
       "      <td>184.8</td>\n",
       "      <td>44</td>\n",
       "      <td>1.022727</td>\n",
       "      <td>1.250000</td>\n",
       "      <td>3.360000</td>\n",
       "    </tr>\n",
       "    <tr>\n",
       "      <th>5</th>\n",
       "      <td>1</td>\n",
       "      <td>201812</td>\n",
       "      <td>160.6</td>\n",
       "      <td>37</td>\n",
       "      <td>1.081081</td>\n",
       "      <td>1.297297</td>\n",
       "      <td>3.345833</td>\n",
       "    </tr>\n",
       "    <tr>\n",
       "      <th>6</th>\n",
       "      <td>1</td>\n",
       "      <td>201901</td>\n",
       "      <td>149.7</td>\n",
       "      <td>35</td>\n",
       "      <td>1.000000</td>\n",
       "      <td>1.171429</td>\n",
       "      <td>3.651220</td>\n",
       "    </tr>\n",
       "    <tr>\n",
       "      <th>12</th>\n",
       "      <td>2</td>\n",
       "      <td>201807</td>\n",
       "      <td>140.5</td>\n",
       "      <td>36</td>\n",
       "      <td>1.055556</td>\n",
       "      <td>1.194444</td>\n",
       "      <td>3.267442</td>\n",
       "    </tr>\n",
       "  </tbody>\n",
       "</table>\n",
       "</div>"
      ],
      "text/plain": [
       "    STORE_NBR  YEARMONTH  TOT_SALES  nCustomers  nTxnPerCust  nChipsPerTxn  \\\n",
       "0           1     201807      188.9          47     1.042553      1.234043   \n",
       "1           1     201808      168.4          41     1.000000      1.268293   \n",
       "2           1     201809      268.1          57     1.035088      1.245614   \n",
       "3           1     201810      175.4          39     1.025641      1.307692   \n",
       "4           1     201811      184.8          44     1.022727      1.250000   \n",
       "5           1     201812      160.6          37     1.081081      1.297297   \n",
       "6           1     201901      149.7          35     1.000000      1.171429   \n",
       "12          2     201807      140.5          36     1.055556      1.194444   \n",
       "\n",
       "    avgPricePerUnit  \n",
       "0          3.256897  \n",
       "1          3.238462  \n",
       "2          3.776056  \n",
       "3          3.439216  \n",
       "4          3.360000  \n",
       "5          3.345833  \n",
       "6          3.651220  \n",
       "12         3.267442  "
      ]
     },
     "execution_count": 6,
     "metadata": {},
     "output_type": "execute_result"
    }
   ],
   "source": [
    "observ_counts = qvi_monthly_metrics[\"STORE_NBR\"].value_counts()\n",
    "full_observ_index = observ_counts[observ_counts == 12].index\n",
    "full_observ = qvi_monthly_metrics[qvi_monthly_metrics[\"STORE_NBR\"].isin(full_observ_index)]\n",
    "pretrial_full_observ = full_observ[full_observ[\"YEARMONTH\"] < 201902]\n",
    "\n",
    "pretrial_full_observ.head(8)"
   ]
  },
  {
   "cell_type": "code",
   "execution_count": 10,
   "id": "619a3ef4",
   "metadata": {},
   "outputs": [],
   "source": [
    "def calcCorrTable(metricCol, storeComparison, inputTable=pretrial_full_observ):\n",
    "  control_store_nbrs = inputTable[~inputTable[\"STORE_NBR\"].isin([77, 86, 88])][\"STORE_NBR\"].unique()\n",
    "  corrs = pd.DataFrame(columns = [\"YEARMONTH\", \"Trial_Str\", \"Ctrl_Str\", \"Corr_Score\"])\n",
    "  trial_store = inputTable[inputTable[\"STORE_NBR\"] == storeComparison][metricCol].reset_index()\n",
    "  for control in control_store_nbrs:\n",
    "    concat_df = pd.DataFrame(columns = [\"YEARMONTH\", \"Trial_Str\", \"Ctrl_Str\", \"Corr_Score\"])\n",
    "    control_store = inputTable[inputTable[\"STORE_NBR\"] == control][metricCol].reset_index()\n",
    "    concat_df[\"Corr_Score\"] = trial_store.corrwith(control_store, axis=1)\n",
    "    concat_df[\"Trial_Str\"] = storeComparison\n",
    "    concat_df[\"Ctrl_Str\"] = control\n",
    "    concat_df[\"YEARMONTH\"] = list(inputTable[inputTable[\"STORE_NBR\"] == storeComparison][\"YEARMONTH\"])\n",
    "    corrs = pd.concat([corrs, concat_df])\n",
    "  return corrs"
   ]
  },
  {
   "cell_type": "code",
   "execution_count": 11,
   "id": "9b188148",
   "metadata": {},
   "outputs": [
    {
     "data": {
      "text/html": [
       "<div>\n",
       "<style scoped>\n",
       "    .dataframe tbody tr th:only-of-type {\n",
       "        vertical-align: middle;\n",
       "    }\n",
       "\n",
       "    .dataframe tbody tr th {\n",
       "        vertical-align: top;\n",
       "    }\n",
       "\n",
       "    .dataframe thead th {\n",
       "        text-align: right;\n",
       "    }\n",
       "</style>\n",
       "<table border=\"1\" class=\"dataframe\">\n",
       "  <thead>\n",
       "    <tr style=\"text-align: right;\">\n",
       "      <th></th>\n",
       "      <th>YEARMONTH</th>\n",
       "      <th>Trial_Str</th>\n",
       "      <th>Ctrl_Str</th>\n",
       "      <th>Corr_Score</th>\n",
       "    </tr>\n",
       "  </thead>\n",
       "  <tbody>\n",
       "    <tr>\n",
       "      <th>0</th>\n",
       "      <td>201807</td>\n",
       "      <td>77</td>\n",
       "      <td>1</td>\n",
       "      <td>0.034928</td>\n",
       "    </tr>\n",
       "    <tr>\n",
       "      <th>1</th>\n",
       "      <td>201808</td>\n",
       "      <td>77</td>\n",
       "      <td>1</td>\n",
       "      <td>0.017017</td>\n",
       "    </tr>\n",
       "    <tr>\n",
       "      <th>2</th>\n",
       "      <td>201809</td>\n",
       "      <td>77</td>\n",
       "      <td>1</td>\n",
       "      <td>-0.007445</td>\n",
       "    </tr>\n",
       "    <tr>\n",
       "      <th>3</th>\n",
       "      <td>201810</td>\n",
       "      <td>77</td>\n",
       "      <td>1</td>\n",
       "      <td>-0.028881</td>\n",
       "    </tr>\n",
       "    <tr>\n",
       "      <th>4</th>\n",
       "      <td>201811</td>\n",
       "      <td>77</td>\n",
       "      <td>1</td>\n",
       "      <td>0.007549</td>\n",
       "    </tr>\n",
       "    <tr>\n",
       "      <th>5</th>\n",
       "      <td>201812</td>\n",
       "      <td>77</td>\n",
       "      <td>1</td>\n",
       "      <td>0.051580</td>\n",
       "    </tr>\n",
       "    <tr>\n",
       "      <th>6</th>\n",
       "      <td>201901</td>\n",
       "      <td>77</td>\n",
       "      <td>1</td>\n",
       "      <td>-0.017382</td>\n",
       "    </tr>\n",
       "    <tr>\n",
       "      <th>0</th>\n",
       "      <td>201807</td>\n",
       "      <td>77</td>\n",
       "      <td>2</td>\n",
       "      <td>0.116765</td>\n",
       "    </tr>\n",
       "    <tr>\n",
       "      <th>1</th>\n",
       "      <td>201808</td>\n",
       "      <td>77</td>\n",
       "      <td>2</td>\n",
       "      <td>0.094303</td>\n",
       "    </tr>\n",
       "    <tr>\n",
       "      <th>2</th>\n",
       "      <td>201809</td>\n",
       "      <td>77</td>\n",
       "      <td>2</td>\n",
       "      <td>0.080021</td>\n",
       "    </tr>\n",
       "  </tbody>\n",
       "</table>\n",
       "</div>"
      ],
      "text/plain": [
       "  YEARMONTH Trial_Str Ctrl_Str  Corr_Score\n",
       "0    201807        77        1    0.034928\n",
       "1    201808        77        1    0.017017\n",
       "2    201809        77        1   -0.007445\n",
       "3    201810        77        1   -0.028881\n",
       "4    201811        77        1    0.007549\n",
       "5    201812        77        1    0.051580\n",
       "6    201901        77        1   -0.017382\n",
       "0    201807        77        2    0.116765\n",
       "1    201808        77        2    0.094303\n",
       "2    201809        77        2    0.080021"
      ]
     },
     "execution_count": 11,
     "metadata": {},
     "output_type": "execute_result"
    }
   ],
   "source": [
    "corr_table = pd.DataFrame()\n",
    "for trial_num in [77, 86, 88]:\n",
    "    corr_table = pd.concat([corr_table, calcCorrTable([\"TOT_SALES\", \"nCustomers\", \"nTxnPerCust\", \"nChipsPerTxn\", \"avgPricePerUnit\"], trial_num)])\n",
    "    \n",
    "corr_table.head(10)"
   ]
  },
  {
   "cell_type": "code",
   "execution_count": 13,
   "id": "0def14e7",
   "metadata": {},
   "outputs": [],
   "source": [
    "def calculateMagnitudeDistance(metricCol, storeComparison, inputTable=pretrial_full_observ):\n",
    "    control_store_nbrs = inputTable[~inputTable[\"STORE_NBR\"].isin([77, 86, 88])][\"STORE_NBR\"].unique()\n",
    "    dists = pd.DataFrame()\n",
    "    trial_store = inputTable[inputTable[\"STORE_NBR\"] == storeComparison][metricCol]\n",
    "    for control in control_store_nbrs:\n",
    "        concat_df  = abs(inputTable[inputTable[\"STORE_NBR\"] == storeComparison].reset_index()[metricCol] - inputTable[inputTable[\"STORE_NBR\"] == control].reset_index()[metricCol])\n",
    "        concat_df[\"YEARMONTH\"] = list(inputTable[inputTable[\"STORE_NBR\"] == storeComparison][\"YEARMONTH\"])\n",
    "        concat_df[\"Trial_Str\"] = storeComparison\n",
    "        concat_df[\"Ctrl_Str\"] = control\n",
    "        dists = pd.concat([dists, concat_df])\n",
    "    for col in metricCol:\n",
    "        dists[col] = 1 - ((dists[col] - dists[col].min()) / (dists[col].max() - dists[col].min()))\n",
    "    dists[\"magnitude\"] = dists[metricCol].mean(axis=1)\n",
    "    return dists"
   ]
  },
  {
   "cell_type": "code",
   "execution_count": 14,
   "id": "7580153f",
   "metadata": {},
   "outputs": [
    {
     "data": {
      "text/html": [
       "<div>\n",
       "<style scoped>\n",
       "    .dataframe tbody tr th:only-of-type {\n",
       "        vertical-align: middle;\n",
       "    }\n",
       "\n",
       "    .dataframe tbody tr th {\n",
       "        vertical-align: top;\n",
       "    }\n",
       "\n",
       "    .dataframe thead th {\n",
       "        text-align: right;\n",
       "    }\n",
       "</style>\n",
       "<table border=\"1\" class=\"dataframe\">\n",
       "  <thead>\n",
       "    <tr style=\"text-align: right;\">\n",
       "      <th></th>\n",
       "      <th>TOT_SALES</th>\n",
       "      <th>nCustomers</th>\n",
       "      <th>nTxnPerCust</th>\n",
       "      <th>nChipsPerTxn</th>\n",
       "      <th>avgPricePerUnit</th>\n",
       "      <th>YEARMONTH</th>\n",
       "      <th>Trial_Str</th>\n",
       "      <th>Ctrl_Str</th>\n",
       "      <th>magnitude</th>\n",
       "    </tr>\n",
       "  </thead>\n",
       "  <tbody>\n",
       "    <tr>\n",
       "      <th>0</th>\n",
       "      <td>0.939141</td>\n",
       "      <td>1.000000</td>\n",
       "      <td>0.906165</td>\n",
       "      <td>0.716452</td>\n",
       "      <td>0.853885</td>\n",
       "      <td>201807</td>\n",
       "      <td>77</td>\n",
       "      <td>1</td>\n",
       "      <td>0.883128</td>\n",
       "    </tr>\n",
       "    <tr>\n",
       "      <th>1</th>\n",
       "      <td>0.939447</td>\n",
       "      <td>0.950495</td>\n",
       "      <td>1.000000</td>\n",
       "      <td>0.807168</td>\n",
       "      <td>0.841984</td>\n",
       "      <td>201808</td>\n",
       "      <td>77</td>\n",
       "      <td>1</td>\n",
       "      <td>0.907819</td>\n",
       "    </tr>\n",
       "    <tr>\n",
       "      <th>2</th>\n",
       "      <td>0.960729</td>\n",
       "      <td>0.831683</td>\n",
       "      <td>0.967117</td>\n",
       "      <td>0.716360</td>\n",
       "      <td>0.686332</td>\n",
       "      <td>201809</td>\n",
       "      <td>77</td>\n",
       "      <td>1</td>\n",
       "      <td>0.832444</td>\n",
       "    </tr>\n",
       "    <tr>\n",
       "      <th>3</th>\n",
       "      <td>0.985532</td>\n",
       "      <td>0.970297</td>\n",
       "      <td>0.995288</td>\n",
       "      <td>0.943513</td>\n",
       "      <td>0.714699</td>\n",
       "      <td>201810</td>\n",
       "      <td>77</td>\n",
       "      <td>1</td>\n",
       "      <td>0.921866</td>\n",
       "    </tr>\n",
       "    <tr>\n",
       "      <th>4</th>\n",
       "      <td>0.969303</td>\n",
       "      <td>0.950495</td>\n",
       "      <td>0.880491</td>\n",
       "      <td>0.743772</td>\n",
       "      <td>0.866003</td>\n",
       "      <td>201811</td>\n",
       "      <td>77</td>\n",
       "      <td>1</td>\n",
       "      <td>0.882013</td>\n",
       "    </tr>\n",
       "    <tr>\n",
       "      <th>...</th>\n",
       "      <td>...</td>\n",
       "      <td>...</td>\n",
       "      <td>...</td>\n",
       "      <td>...</td>\n",
       "      <td>...</td>\n",
       "      <td>...</td>\n",
       "      <td>...</td>\n",
       "      <td>...</td>\n",
       "      <td>...</td>\n",
       "    </tr>\n",
       "    <tr>\n",
       "      <th>2</th>\n",
       "      <td>0.209407</td>\n",
       "      <td>0.268293</td>\n",
       "      <td>0.613056</td>\n",
       "      <td>0.797921</td>\n",
       "      <td>0.923369</td>\n",
       "      <td>201809</td>\n",
       "      <td>88</td>\n",
       "      <td>272</td>\n",
       "      <td>0.562409</td>\n",
       "    </tr>\n",
       "    <tr>\n",
       "      <th>3</th>\n",
       "      <td>0.358741</td>\n",
       "      <td>0.357724</td>\n",
       "      <td>0.773519</td>\n",
       "      <td>0.861789</td>\n",
       "      <td>0.969082</td>\n",
       "      <td>201810</td>\n",
       "      <td>88</td>\n",
       "      <td>272</td>\n",
       "      <td>0.664171</td>\n",
       "    </tr>\n",
       "    <tr>\n",
       "      <th>4</th>\n",
       "      <td>0.292148</td>\n",
       "      <td>0.317073</td>\n",
       "      <td>0.665863</td>\n",
       "      <td>0.792787</td>\n",
       "      <td>0.964449</td>\n",
       "      <td>201811</td>\n",
       "      <td>88</td>\n",
       "      <td>272</td>\n",
       "      <td>0.606464</td>\n",
       "    </tr>\n",
       "    <tr>\n",
       "      <th>5</th>\n",
       "      <td>0.370444</td>\n",
       "      <td>0.373984</td>\n",
       "      <td>0.571429</td>\n",
       "      <td>0.722481</td>\n",
       "      <td>0.963101</td>\n",
       "      <td>201812</td>\n",
       "      <td>88</td>\n",
       "      <td>272</td>\n",
       "      <td>0.600288</td>\n",
       "    </tr>\n",
       "    <tr>\n",
       "      <th>6</th>\n",
       "      <td>0.390370</td>\n",
       "      <td>0.422764</td>\n",
       "      <td>0.548842</td>\n",
       "      <td>0.728854</td>\n",
       "      <td>0.978972</td>\n",
       "      <td>201901</td>\n",
       "      <td>88</td>\n",
       "      <td>272</td>\n",
       "      <td>0.613961</td>\n",
       "    </tr>\n",
       "  </tbody>\n",
       "</table>\n",
       "<p>5376 rows × 9 columns</p>\n",
       "</div>"
      ],
      "text/plain": [
       "    TOT_SALES  nCustomers  nTxnPerCust  nChipsPerTxn  avgPricePerUnit  \\\n",
       "0    0.939141    1.000000     0.906165      0.716452         0.853885   \n",
       "1    0.939447    0.950495     1.000000      0.807168         0.841984   \n",
       "2    0.960729    0.831683     0.967117      0.716360         0.686332   \n",
       "3    0.985532    0.970297     0.995288      0.943513         0.714699   \n",
       "4    0.969303    0.950495     0.880491      0.743772         0.866003   \n",
       "..        ...         ...          ...           ...              ...   \n",
       "2    0.209407    0.268293     0.613056      0.797921         0.923369   \n",
       "3    0.358741    0.357724     0.773519      0.861789         0.969082   \n",
       "4    0.292148    0.317073     0.665863      0.792787         0.964449   \n",
       "5    0.370444    0.373984     0.571429      0.722481         0.963101   \n",
       "6    0.390370    0.422764     0.548842      0.728854         0.978972   \n",
       "\n",
       "    YEARMONTH  Trial_Str  Ctrl_Str  magnitude  \n",
       "0      201807         77         1   0.883128  \n",
       "1      201808         77         1   0.907819  \n",
       "2      201809         77         1   0.832444  \n",
       "3      201810         77         1   0.921866  \n",
       "4      201811         77         1   0.882013  \n",
       "..        ...        ...       ...        ...  \n",
       "2      201809         88       272   0.562409  \n",
       "3      201810         88       272   0.664171  \n",
       "4      201811         88       272   0.606464  \n",
       "5      201812         88       272   0.600288  \n",
       "6      201901         88       272   0.613961  \n",
       "\n",
       "[5376 rows x 9 columns]"
      ]
     },
     "execution_count": 14,
     "metadata": {},
     "output_type": "execute_result"
    }
   ],
   "source": [
    "dist_table = pd.DataFrame()\n",
    "for trial_num in [77, 86, 88]:\n",
    "    dist_table = pd.concat([dist_table, calculateMagnitudeDistance([\"TOT_SALES\", \"nCustomers\", \"nTxnPerCust\", \"nChipsPerTxn\", \"avgPricePerUnit\"], trial_num)])\n",
    "    \n",
    "dist_table.head(8)\n",
    "dist_table"
   ]
  },
  {
   "cell_type": "markdown",
   "id": "efd8114b",
   "metadata": {},
   "source": [
    "We'll select control stores based on how similar monthly total sales in dollar amounts and monthly number of customers are to the trial stores by using correlation and magnitude distance."
   ]
  },
  {
   "cell_type": "code",
   "execution_count": 15,
   "id": "e78fed76",
   "metadata": {},
   "outputs": [],
   "source": [
    "def combine_corr_dist(metricCol, storeComparison, inputTable=pretrial_full_observ):\n",
    "    corrs = calcCorrTable(metricCol, storeComparison, inputTable)\n",
    "    dists = calculateMagnitudeDistance(metricCol, storeComparison, inputTable)\n",
    "    dists = dists.drop(metricCol, axis=1)\n",
    "    combine = pd.merge(corrs, dists, on=[\"YEARMONTH\", \"Trial_Str\", \"Ctrl_Str\"])\n",
    "    return combine"
   ]
  },
  {
   "cell_type": "code",
   "execution_count": 16,
   "id": "f9333a6a",
   "metadata": {},
   "outputs": [],
   "source": [
    "compare_metrics_table1 = pd.DataFrame()\n",
    "for trial_num in [77, 86, 88]:\n",
    "    compare_metrics_table1 = pd.concat([compare_metrics_table1, combine_corr_dist([\"TOT_SALES\"], trial_num)])"
   ]
  },
  {
   "cell_type": "code",
   "execution_count": 17,
   "id": "f3231f87",
   "metadata": {},
   "outputs": [],
   "source": [
    "corr_weight = 0.5\n",
    "dist_weight = 1 - corr_weight"
   ]
  },
  {
   "cell_type": "markdown",
   "id": "fe7ebb14",
   "metadata": {},
   "source": [
    "Determining the top five highest composite score for each trial based on Total sales"
   ]
  },
  {
   "cell_type": "code",
   "execution_count": 20,
   "id": "2390ccbb",
   "metadata": {},
   "outputs": [
    {
     "name": "stdout",
     "output_type": "stream",
     "text": [
      "     Trial_Str  Ctrl_Str  Corr_Score  magnitude  CompScore\n",
      "217         77       233         1.0   0.986702   0.993351\n",
      "176         77       188         1.0   0.980567   0.990283\n",
      "120         77       131         1.0   0.977341   0.988670\n",
      "238         77       255         1.0   0.976794   0.988397\n",
      "192         77       205         1.0   0.976706   0.988353 \n",
      "\n",
      "     Trial_Str  Ctrl_Str  Corr_Score  magnitude  CompScore\n",
      "400         86       155         1.0   0.964165   0.982082\n",
      "355         86       109         1.0   0.955015   0.977507\n",
      "383         86       138         1.0   0.950843   0.975421\n",
      "362         86       116         1.0   0.950053   0.975027\n",
      "449         86       207         1.0   0.949940   0.974970 \n",
      "\n",
      "     Trial_Str  Ctrl_Str  Corr_Score  magnitude  CompScore\n",
      "549         88        40         1.0   0.933101   0.966550\n",
      "515         88         4         1.0   0.911153   0.955577\n",
      "536         88        26         1.0   0.907058   0.953529\n",
      "566         88        58         1.0   0.893688   0.946844\n",
      "580         88        72         1.0   0.891545   0.945772 \n",
      "\n"
     ]
    }
   ],
   "source": [
    "grouped_comparison_table1 = compare_metrics_table1.groupby([\"Trial_Str\", \"Ctrl_Str\"]).mean().reset_index()\n",
    "grouped_comparison_table1[\"CompScore\"] = (corr_weight * grouped_comparison_table1[\"Corr_Score\"]) + (dist_weight * grouped_comparison_table1[\"magnitude\"])\n",
    "for trial_num in compare_metrics_table1[\"Trial_Str\"].unique():\n",
    "    print(grouped_comparison_table1[grouped_comparison_table1[\"Trial_Str\"] == trial_num].sort_values(ascending=False, by=\"CompScore\").head(), '\\n')"
   ]
  },
  {
   "cell_type": "code",
   "execution_count": 23,
   "id": "76ede0ee",
   "metadata": {},
   "outputs": [],
   "source": [
    "compare_metrics_table2 = pd.DataFrame()\n",
    "for trial_num in [77, 86, 88]:\n",
    "    compare_metrics_table2 = pd.concat([compare_metrics_table2, combine_corr_dist([\"nCustomers\"], trial_num)])"
   ]
  },
  {
   "cell_type": "markdown",
   "id": "866ec07e",
   "metadata": {},
   "source": [
    "Determining the top five highest composite score for each trial based on no. of customers"
   ]
  },
  {
   "cell_type": "code",
   "execution_count": 24,
   "id": "2bebac57",
   "metadata": {},
   "outputs": [
    {
     "name": "stdout",
     "output_type": "stream",
     "text": [
      "     Trial_Str  Ctrl_Str  Corr_Score  magnitude  CompScore\n",
      "217         77       233         1.0   0.991513   0.995757\n",
      "38          77        41         1.0   0.961810   0.980905\n",
      "15          77        17         1.0   0.960396   0.980198\n",
      "42          77        46         1.0   0.960396   0.980198\n",
      "134         77       145         1.0   0.957567   0.978784 \n",
      "\n",
      "     Trial_Str  Ctrl_Str  Corr_Score  magnitude  CompScore\n",
      "400         86       155         1.0   0.975035   0.987517\n",
      "465         86       225         1.0   0.968100   0.984050\n",
      "360         86       114         1.0   0.959778   0.979889\n",
      "355         86       109         1.0   0.951456   0.975728\n",
      "428         86       184         1.0   0.951456   0.975728 \n",
      "\n",
      "     Trial_Str  Ctrl_Str  Corr_Score  magnitude  CompScore\n",
      "733         88       237         1.0   0.979094   0.989547\n",
      "549         88        40         1.0   0.939605   0.969803\n",
      "698         88       199         1.0   0.938444   0.969222\n",
      "666         88       165         1.0   0.931475   0.965738\n",
      "700         88       201         1.0   0.924506   0.962253 \n",
      "\n"
     ]
    }
   ],
   "source": [
    "grouped_comparison_table2 = compare_metrics_table2.groupby([\"Trial_Str\", \"Ctrl_Str\"]).mean().reset_index()\n",
    "grouped_comparison_table2[\"CompScore\"] = (corr_weight * grouped_comparison_table2[\"Corr_Score\"]) + (dist_weight * grouped_comparison_table2[\"magnitude\"])\n",
    "for trial_num in compare_metrics_table2[\"Trial_Str\"].unique():\n",
    "    print(grouped_comparison_table2[grouped_comparison_table2[\"Trial_Str\"] == trial_num].sort_values(ascending=False, by=\"CompScore\").head(), '\\n')"
   ]
  },
  {
   "cell_type": "code",
   "execution_count": 25,
   "id": "94b8e2e6",
   "metadata": {},
   "outputs": [
    {
     "name": "stdout",
     "output_type": "stream",
     "text": [
      "Trial_Str  Ctrl_Str\n",
      "77         233         0.994554\n",
      "           46          0.983852\n",
      "           188         0.981705\n",
      "dtype: float64 \n",
      "\n",
      "Trial_Str  Ctrl_Str\n",
      "86         155         0.984800\n",
      "           109         0.976618\n",
      "           225         0.975346\n",
      "dtype: float64 \n",
      "\n",
      "Trial_Str  Ctrl_Str\n",
      "88         40          0.968176\n",
      "           26          0.957020\n",
      "           58          0.953097\n",
      "dtype: float64 \n",
      "\n"
     ]
    }
   ],
   "source": [
    "for trial_num in compare_metrics_table2[\"Trial_Str\"].unique():\n",
    "    a = grouped_comparison_table1[grouped_comparison_table1[\"Trial_Str\"] == trial_num].sort_values(ascending=False, by=\"CompScore\").set_index([\"Trial_Str\", \"Ctrl_Str\"])[\"CompScore\"]\n",
    "    b = grouped_comparison_table2[grouped_comparison_table2[\"Trial_Str\"] == trial_num].sort_values(ascending=False, by=\"CompScore\").set_index([\"Trial_Str\", \"Ctrl_Str\"])[\"CompScore\"]\n",
    "    print((pd.concat([a,b], axis=1).sum(axis=1)/2).sort_values(ascending=False).head(3), '\\n')"
   ]
  },
  {
   "cell_type": "markdown",
   "id": "358670fd",
   "metadata": {},
   "source": [
    "Similarities based on total sales:\n",
    "1. Trial store 77: Store 233, 255, 188\n",
    "2. Trial store 86: Store 109, 155, 222\n",
    "3. Trial store 88: Store 40, 26, 72\n",
    "\n",
    "Similarities based on No. of Customers:\n",
    "1. Trial store 77: Store 233, 41, 111\n",
    "2. Trial store 86: Store 155, 225, 109\n",
    "3. Trial store 88: Store 237, 203, 40\n",
    "\n",
    "Final SImilarities based on Highest average of both features combined:\n",
    "1. Trial store 77: Store 233\n",
    "2. Trial store 86: Store 155\n",
    "3. Trial store 88: Store 40"
   ]
  },
  {
   "cell_type": "code",
   "execution_count": 26,
   "id": "09ba2f37",
   "metadata": {},
   "outputs": [
    {
     "data": {
      "image/png": "[encoded data removed]",
      "text/plain": [
       "<Figure size 432x288 with 1 Axes>"
      ]
     },
     "metadata": {
      "needs_background": "light"
     },
     "output_type": "display_data"
    },
    {
     "data": {
      "image/png": "[encoded data removed]",
      "text/plain": [
       "<Figure size 432x288 with 1 Axes>"
      ]
     },
     "metadata": {
      "needs_background": "light"
     },
     "output_type": "display_data"
    },
    {
     "name": "stdout",
     "output_type": "stream",
     "text": [
      "\n",
      "\n"
     ]
    },
    {
     "data": {
      "image/png": "[encoded data removed]",
      "text/plain": [
       "<Figure size 432x288 with 1 Axes>"
      ]
     },
     "metadata": {
      "needs_background": "light"
     },
     "output_type": "display_data"
    },
    {
     "data": {
      "image/png": "[encoded data removed]",
      "text/plain": [
       "<Figure size 432x288 with 1 Axes>"
      ]
     },
     "metadata": {
      "needs_background": "light"
     },
     "output_type": "display_data"
    },
    {
     "name": "stdout",
     "output_type": "stream",
     "text": [
      "\n",
      "\n"
     ]
    },
    {
     "data": {
      "image/png": "[encoded data removed]",
      "text/plain": [
       "<Figure size 432x288 with 1 Axes>"
      ]
     },
     "metadata": {
      "needs_background": "light"
     },
     "output_type": "display_data"
    },
    {
     "data": {
      "image/png": "[encoded data removed]",
      "text/plain": [
       "<Figure size 432x288 with 1 Axes>"
      ]
     },
     "metadata": {
      "needs_background": "light"
     },
     "output_type": "display_data"
    },
    {
     "name": "stdout",
     "output_type": "stream",
     "text": [
      "\n",
      "\n"
     ]
    }
   ],
   "source": [
    "trial_control_dic = {77:233, 86:155, 88:40}\n",
    "for key, val in trial_control_dic.items():\n",
    "    pretrial_full_observ[pretrial_full_observ[\"STORE_NBR\"].isin([key, val])].groupby(\n",
    "        [\"YEARMONTH\", \"STORE_NBR\"]).sum()[\"TOT_SALES\"].unstack().plot.bar()\n",
    "    plt.legend(loc='center left', bbox_to_anchor=(1.0, 0.5))\n",
    "    plt.title(\"Trial Store \"+str(key)+\" and Control Store \"+str(val)+\" - TOT_SALES\")\n",
    "    plt.show()\n",
    "    pretrial_full_observ[pretrial_full_observ[\"STORE_NBR\"].isin([key, val])].groupby(\n",
    "    [\"YEARMONTH\", \"STORE_NBR\"]).sum()[\"nCustomers\"].unstack().plot.bar()\n",
    "    plt.legend(loc='center left', bbox_to_anchor=(1.0, 0.5))\n",
    "    plt.title(\"Trial Store \"+str(key)+\" and Control Store \"+str(val)+\" - nCustomer\")\n",
    "    plt.show()\n",
    "    print('\\n')"
   ]
  },
  {
   "cell_type": "markdown",
   "id": "36570cbe",
   "metadata": {},
   "source": [
    "Next we'll compare the performance of Trial stores to Control stores during the trial period. To ensure their performance is comparable during Trial period, we need to scale (multiply to ratio of trial / control) all of Control stores' performance to Trial store's performance during pre-trial. Starting with TOT_SALES."
   ]
  },
  {
   "cell_type": "code",
   "execution_count": 27,
   "id": "82807412",
   "metadata": {},
   "outputs": [],
   "source": [
    "#Ratio of Store 77 and its Control store.\n",
    "sales_ratio_77 = pretrial_full_observ[pretrial_full_observ[\"STORE_NBR\"] == 77][\"TOT_SALES\"].sum() / pretrial_full_observ[pretrial_full_observ[\"STORE_NBR\"] == 233][\"TOT_SALES\"].sum()\n",
    "\n",
    "#Ratio of Store 86 and its Control store.\n",
    "sales_ratio_86 = pretrial_full_observ[pretrial_full_observ[\"STORE_NBR\"] == 86][\"TOT_SALES\"].sum() / pretrial_full_observ[pretrial_full_observ[\"STORE_NBR\"] == 155][\"TOT_SALES\"].sum()\n",
    "\n",
    "#Ratio of Store 77 and its Control store.\n",
    "sales_ratio_88 = pretrial_full_observ[pretrial_full_observ[\"STORE_NBR\"] == 88][\"TOT_SALES\"].sum() / pretrial_full_observ[pretrial_full_observ[\"STORE_NBR\"] == 40][\"TOT_SALES\"].sum()"
   ]
  },
  {
   "cell_type": "code",
   "execution_count": 28,
   "id": "75a82f8c",
   "metadata": {},
   "outputs": [
    {
     "data": {
      "image/png": "[encoded data removed]",
      "text/plain": [
       "<Figure size 432x288 with 1 Axes>"
      ]
     },
     "metadata": {
      "needs_background": "light"
     },
     "output_type": "display_data"
    },
    {
     "data": {
      "image/png": "[encoded data removed]",
      "text/plain": [
       "<Figure size 432x288 with 1 Axes>"
      ]
     },
     "metadata": {
      "needs_background": "light"
     },
     "output_type": "display_data"
    },
    {
     "data": {
      "image/png": "[encoded data removed]",
      "text/plain": [
       "<Figure size 432x288 with 1 Axes>"
      ]
     },
     "metadata": {
      "needs_background": "light"
     },
     "output_type": "display_data"
    }
   ],
   "source": [
    "trial_full_observ = full_observ[(full_observ[\"YEARMONTH\"] >= 201902) & (full_observ[\"YEARMONTH\"] <= 201904)]\n",
    "scaled_sales_control_stores = full_observ[full_observ[\"STORE_NBR\"].isin([233, 155, 40])][[\"STORE_NBR\", \"YEARMONTH\", \"TOT_SALES\"]]\n",
    "\n",
    "def scaler(row):\n",
    "    if row[\"STORE_NBR\"] == 233:\n",
    "        return row[\"TOT_SALES\"] * sales_ratio_77\n",
    "    elif row[\"STORE_NBR\"] == 155:\n",
    "        return row[\"TOT_SALES\"] * sales_ratio_86\n",
    "    elif row[\"STORE_NBR\"] == 40:\n",
    "        return row[\"TOT_SALES\"] * sales_ratio_88\n",
    "\n",
    "scaled_sales_control_stores[\"ScaledSales\"] = scaled_sales_control_stores.apply(lambda row: scaler(row), axis=1)\n",
    "\n",
    "trial_scaled_sales_control_stores = scaled_sales_control_stores[(scaled_sales_control_stores[\"YEARMONTH\"] >= 201902) & (scaled_sales_control_stores[\"YEARMONTH\"] <= 201904)]\n",
    "pretrial_scaled_sales_control_stores = scaled_sales_control_stores[scaled_sales_control_stores[\"YEARMONTH\"] < 201902]\n",
    "\n",
    "percentage_diff = {}\n",
    "\n",
    "for trial, control in trial_control_dic.items():\n",
    "    a = trial_scaled_sales_control_stores[trial_scaled_sales_control_stores[\"STORE_NBR\"] == control]\n",
    "    b = trial_full_observ[trial_full_observ[\"STORE_NBR\"] == trial][[\"STORE_NBR\", \"YEARMONTH\", \"TOT_SALES\"]]\n",
    "    percentage_diff[trial] = b[\"TOT_SALES\"].sum() / a[\"ScaledSales\"].sum()\n",
    "    b[[\"YEARMONTH\", \"TOT_SALES\"]].merge(a[[\"YEARMONTH\", \"ScaledSales\"]],on=\"YEARMONTH\").set_index(\"YEARMONTH\").rename(columns={\"ScaledSales\":\"Scaled_Control_Sales\", \"TOT_SALES\":\"Trial_Sales\"}).plot.bar()\n",
    "    plt.legend(loc='center left', bbox_to_anchor=(1.0, 0.5))\n",
    "    plt.title(\"Trial Store \"+str(trial)+\" and Control Store \"+str(control))"
   ]
  },
  {
   "cell_type": "code",
   "execution_count": 29,
   "id": "eb65576d",
   "metadata": {},
   "outputs": [
    {
     "data": {
      "text/plain": [
       "{77: 1.2778901246373204, 86: 1.1155403148404528, 88: 1.0736785754013871}"
      ]
     },
     "execution_count": 29,
     "metadata": {},
     "output_type": "execute_result"
    }
   ],
   "source": [
    "percentage_diff"
   ]
  },
  {
   "cell_type": "code",
   "execution_count": 30,
   "id": "cbb78831",
   "metadata": {},
   "outputs": [
    {
     "data": {
      "text/html": [
       "<div>\n",
       "<style scoped>\n",
       "    .dataframe tbody tr th:only-of-type {\n",
       "        vertical-align: middle;\n",
       "    }\n",
       "\n",
       "    .dataframe tbody tr th {\n",
       "        vertical-align: top;\n",
       "    }\n",
       "\n",
       "    .dataframe thead th {\n",
       "        text-align: right;\n",
       "    }\n",
       "</style>\n",
       "<table border=\"1\" class=\"dataframe\">\n",
       "  <thead>\n",
       "    <tr style=\"text-align: right;\">\n",
       "      <th></th>\n",
       "      <th>c_STORE_NBR</th>\n",
       "      <th>YEARMONTH</th>\n",
       "      <th>c_ScaledSales</th>\n",
       "      <th>t_STORE_NBR</th>\n",
       "      <th>t_TOT_SALES</th>\n",
       "      <th>Sales_Percentage_Diff</th>\n",
       "      <th>trial_period</th>\n",
       "    </tr>\n",
       "  </thead>\n",
       "  <tbody>\n",
       "    <tr>\n",
       "      <th>7</th>\n",
       "      <td>233</td>\n",
       "      <td>201902</td>\n",
       "      <td>229.473346</td>\n",
       "      <td>77</td>\n",
       "      <td>211.6</td>\n",
       "      <td>-0.081045</td>\n",
       "      <td>trial</td>\n",
       "    </tr>\n",
       "    <tr>\n",
       "      <th>8</th>\n",
       "      <td>233</td>\n",
       "      <td>201903</td>\n",
       "      <td>187.779277</td>\n",
       "      <td>77</td>\n",
       "      <td>255.1</td>\n",
       "      <td>0.304014</td>\n",
       "      <td>trial</td>\n",
       "    </tr>\n",
       "    <tr>\n",
       "      <th>9</th>\n",
       "      <td>233</td>\n",
       "      <td>201904</td>\n",
       "      <td>149.932291</td>\n",
       "      <td>77</td>\n",
       "      <td>258.1</td>\n",
       "      <td>0.530192</td>\n",
       "      <td>trial</td>\n",
       "    </tr>\n",
       "    <tr>\n",
       "      <th>19</th>\n",
       "      <td>155</td>\n",
       "      <td>201902</td>\n",
       "      <td>827.019610</td>\n",
       "      <td>86</td>\n",
       "      <td>872.8</td>\n",
       "      <td>0.053865</td>\n",
       "      <td>trial</td>\n",
       "    </tr>\n",
       "    <tr>\n",
       "      <th>20</th>\n",
       "      <td>155</td>\n",
       "      <td>201903</td>\n",
       "      <td>745.561872</td>\n",
       "      <td>86</td>\n",
       "      <td>945.4</td>\n",
       "      <td>0.236360</td>\n",
       "      <td>trial</td>\n",
       "    </tr>\n",
       "    <tr>\n",
       "      <th>21</th>\n",
       "      <td>155</td>\n",
       "      <td>201904</td>\n",
       "      <td>778.028321</td>\n",
       "      <td>86</td>\n",
       "      <td>804.0</td>\n",
       "      <td>0.032833</td>\n",
       "      <td>trial</td>\n",
       "    </tr>\n",
       "    <tr>\n",
       "      <th>31</th>\n",
       "      <td>40</td>\n",
       "      <td>201902</td>\n",
       "      <td>1346.153002</td>\n",
       "      <td>88</td>\n",
       "      <td>1339.6</td>\n",
       "      <td>-0.004880</td>\n",
       "      <td>trial</td>\n",
       "    </tr>\n",
       "    <tr>\n",
       "      <th>32</th>\n",
       "      <td>40</td>\n",
       "      <td>201903</td>\n",
       "      <td>1273.550526</td>\n",
       "      <td>88</td>\n",
       "      <td>1467.0</td>\n",
       "      <td>0.141176</td>\n",
       "      <td>trial</td>\n",
       "    </tr>\n",
       "    <tr>\n",
       "      <th>33</th>\n",
       "      <td>40</td>\n",
       "      <td>201904</td>\n",
       "      <td>1220.924472</td>\n",
       "      <td>88</td>\n",
       "      <td>1317.0</td>\n",
       "      <td>0.075712</td>\n",
       "      <td>trial</td>\n",
       "    </tr>\n",
       "  </tbody>\n",
       "</table>\n",
       "</div>"
      ],
      "text/plain": [
       "    c_STORE_NBR  YEARMONTH  c_ScaledSales  t_STORE_NBR  t_TOT_SALES  \\\n",
       "7           233     201902     229.473346           77        211.6   \n",
       "8           233     201903     187.779277           77        255.1   \n",
       "9           233     201904     149.932291           77        258.1   \n",
       "19          155     201902     827.019610           86        872.8   \n",
       "20          155     201903     745.561872           86        945.4   \n",
       "21          155     201904     778.028321           86        804.0   \n",
       "31           40     201902    1346.153002           88       1339.6   \n",
       "32           40     201903    1273.550526           88       1467.0   \n",
       "33           40     201904    1220.924472           88       1317.0   \n",
       "\n",
       "    Sales_Percentage_Diff trial_period  \n",
       "7               -0.081045        trial  \n",
       "8                0.304014        trial  \n",
       "9                0.530192        trial  \n",
       "19               0.053865        trial  \n",
       "20               0.236360        trial  \n",
       "21               0.032833        trial  \n",
       "31              -0.004880        trial  \n",
       "32               0.141176        trial  \n",
       "33               0.075712        trial  "
      ]
     },
     "execution_count": 30,
     "metadata": {},
     "output_type": "execute_result"
    }
   ],
   "source": [
    "temp1 = scaled_sales_control_stores.sort_values(by=[\"STORE_NBR\", \"YEARMONTH\"], ascending=[False, True]).reset_index().drop([\"TOT_SALES\", \"index\"], axis=1)\n",
    "temp2 = full_observ[full_observ[\"STORE_NBR\"].isin([77,86,88])][[\"STORE_NBR\", \"YEARMONTH\", \"TOT_SALES\"]].reset_index().drop([\"index\", \"YEARMONTH\"], axis=1)\n",
    "scaledsales_vs_trial = pd.concat([temp1, temp2], axis=1)\n",
    "scaledsales_vs_trial.columns = [\"c_STORE_NBR\", \"YEARMONTH\", \"c_ScaledSales\", \"t_STORE_NBR\", \"t_TOT_SALES\"]\n",
    "scaledsales_vs_trial[\"Sales_Percentage_Diff\"] = (scaledsales_vs_trial[\"t_TOT_SALES\"] - scaledsales_vs_trial[\"c_ScaledSales\"]) / (((scaledsales_vs_trial[\"t_TOT_SALES\"] + scaledsales_vs_trial[\"c_ScaledSales\"])/2))\n",
    "def label_period(cell):\n",
    "    if cell < 201902:\n",
    "        return \"pre\"\n",
    "    elif cell > 201904:\n",
    "        return \"post\"\n",
    "    else:\n",
    "        return \"trial\"\n",
    "scaledsales_vs_trial[\"trial_period\"] = scaledsales_vs_trial[\"YEARMONTH\"].apply(lambda cell: label_period(cell))\n",
    "scaledsales_vs_trial[scaledsales_vs_trial[\"trial_period\"] == \"trial\"]"
   ]
  },
  {
   "cell_type": "markdown",
   "id": "218a3235",
   "metadata": {},
   "source": [
    "Check significance of Trial minus Control stores TOT_SALES Percentage Difference Pre-Trial vs Trial.\n",
    "\n",
    "Step 1: Check null hypothesis of 0 difference between control store's Pre-Trial and Trial period performance.\n",
    "\n",
    "Step 2: Proof control and trial stores are similar statistically\n",
    "\n",
    "Check p-value of control store's Pre-Trial vs Trial store's Pre-Trial.\n",
    "If <5%, it is significantly different. If >5%, it is not significantly different (similar).\n",
    "\n",
    "Step 3: After checking Null Hypothesis of first 2 step to be true, we can check Null Hypothesis of Percentage Difference between Trial and Control stores during pre-trial is the same as during trial.\n",
    "\n",
    "Check T-Value of Percentage Difference of each Trial month (Feb, March, April 2019).\n",
    "Mean is mean of Percentage Difference during pre-trial.\n",
    "Standard deviation is stdev of Percentage Difference during pre-trial.\n",
    "Formula is Trial month's Percentage Difference minus Mean, divided by Standard deviation.\n",
    "Compare each T-Value with 95% percentage significance critical t-value of 6 degrees of freedom (7 months of sample - 1)"
   ]
  },
  {
   "cell_type": "code",
   "execution_count": 31,
   "id": "68663373",
   "metadata": {},
   "outputs": [
    {
     "name": "stdout",
     "output_type": "stream",
     "text": [
      "Store 40\n",
      "Ttest_indResult(statistic=-0.36013226673707055, pvalue=0.7312292961250695) \n",
      "\n",
      "Store 155\n",
      "Ttest_indResult(statistic=1.2632008050177177, pvalue=0.24959862186836165) \n",
      "\n",
      "Store 233\n",
      "Ttest_indResult(statistic=1.2851941918470577, pvalue=0.2540387701484951) \n",
      "\n",
      "Critical t-value for 95% confidence interval:\n",
      "[-4.30265273  4.30265273]\n"
     ]
    }
   ],
   "source": [
    "from scipy.stats import ttest_ind, t\n",
    "\n",
    "# Step 1\n",
    "for num in [40, 155, 233]:\n",
    "    print(\"Store\", num)\n",
    "    print(ttest_ind(pretrial_scaled_sales_control_stores[pretrial_scaled_sales_control_stores[\"STORE_NBR\"] == num][\"ScaledSales\"],\n",
    "                   trial_scaled_sales_control_stores[trial_scaled_sales_control_stores[\"STORE_NBR\"] == num][\"ScaledSales\"],\n",
    "                   equal_var=False), '\\n')\n",
    "    #print(len(pretrial_scaled_sales_control_stores[pretrial_scaled_sales_control_stores[\"STORE_NBR\"] == num][\"ScaledSales\"]), len(trial_scaled_sales_control_stores[trial_scaled_sales_control_stores[\"STORE_NBR\"] == num][\"ScaledSales\"]))\n",
    "    \n",
    "alpha = 0.05\n",
    "print(\"Critical t-value for 95% confidence interval:\")\n",
    "print(t.ppf((alpha/2, 1-alpha/2), df=min([len(pretrial_scaled_sales_control_stores[pretrial_scaled_sales_control_stores[\"STORE_NBR\"] == num]),\n",
    "                       len(trial_scaled_sales_control_stores[trial_scaled_sales_control_stores[\"STORE_NBR\"] == num])])-1))"
   ]
  },
  {
   "cell_type": "code",
   "execution_count": 32,
   "id": "50497066",
   "metadata": {},
   "outputs": [],
   "source": [
    "a = pretrial_scaled_sales_control_stores[pretrial_scaled_sales_control_stores[\"STORE_NBR\"] == 40][\"ScaledSales\"]\n",
    "b = trial_scaled_sales_control_stores[trial_scaled_sales_control_stores[\"STORE_NBR\"] == 40][\"ScaledSales\"]"
   ]
  },
  {
   "cell_type": "markdown",
   "id": "5fe762f3",
   "metadata": {},
   "source": [
    "Null hypothesis is true. There isn't any statistically significant difference between control store's scaled Pre-Trial and Trial period sales."
   ]
  },
  {
   "cell_type": "code",
   "execution_count": 33,
   "id": "7ecb5764",
   "metadata": {},
   "outputs": [
    {
     "name": "stdout",
     "output_type": "stream",
     "text": [
      "Trial store: 77 , Control store: 233\n",
      "Ttest_indResult(statistic=2.4926005499695936e-15, pvalue=0.999999999999998) \n",
      "\n",
      "Trial store: 86 , Control store: 155\n",
      "Ttest_indResult(statistic=0.0, pvalue=1.0) \n",
      "\n",
      "Trial store: 88 , Control store: 40\n",
      "Ttest_indResult(statistic=0.0, pvalue=1.0) \n",
      "\n",
      "Critical t-value for 95% confidence interval:\n",
      "[-2.44691185  2.44691185]\n"
     ]
    }
   ],
   "source": [
    "# Step 2\n",
    "for trial, cont in trial_control_dic.items():\n",
    "    print(\"Trial store:\", trial, \", Control store:\", cont)\n",
    "    print(ttest_ind(pretrial_full_observ[pretrial_full_observ[\"STORE_NBR\"] == trial][\"TOT_SALES\"],\n",
    "                   pretrial_scaled_sales_control_stores[pretrial_scaled_sales_control_stores[\"STORE_NBR\"] == cont][\"ScaledSales\"],\n",
    "                   equal_var=True), '\\n')\n",
    "    #print(len(pretrial_full_observ[pretrial_full_observ[\"STORE_NBR\"] == trial][\"TOT_SALES\"]),len(pretrial_scaled_sales_control_stores[pretrial_scaled_sales_control_stores[\"STORE_NBR\"] == cont][\"ScaledSales\"]))\n",
    "\n",
    "alpha = 0.05\n",
    "print(\"Critical t-value for 95% confidence interval:\")\n",
    "print(t.ppf((alpha/2, 1-alpha/2), df=len(pretrial_full_observ[pretrial_full_observ[\"STORE_NBR\"] == trial])-1))"
   ]
  },
  {
   "cell_type": "markdown",
   "id": "22f101ef",
   "metadata": {},
   "source": [
    "Null hypothesis is true. There isn't any statistically significant difference between Trial store's sales and Control store's scaled-sales performance during pre-trial."
   ]
  },
  {
   "cell_type": "code",
   "execution_count": 34,
   "id": "4ad15a8c",
   "metadata": {},
   "outputs": [
    {
     "name": "stdout",
     "output_type": "stream",
     "text": [
      "Trial store: 77 , Control store: 233\n",
      "201902 : -0.8435806220494315\n",
      "201903 : 2.4904464734755805\n",
      "201904 : 4.448806995302806\n",
      "\n",
      "\n",
      "Trial store: 86 , Control store: 155\n",
      "201902 : 1.3077596199049661\n",
      "201903 : 5.828582596615282\n",
      "201904 : 0.7867590051021528\n",
      "\n",
      "\n",
      "Trial store: 88 , Control store: 40\n",
      "201902 : -0.06747939544188036\n",
      "201903 : 1.4413280336576249\n",
      "201904 : 0.7650631287827934\n",
      "\n",
      "\n",
      "Critical t-value for 95% confidence interval:\n",
      "1.9431802803927816\n"
     ]
    }
   ],
   "source": [
    "# Step 3\n",
    "for trial, cont in trial_control_dic.items():\n",
    "    print(\"Trial store:\", trial, \", Control store:\", cont)\n",
    "    temp_pre = scaledsales_vs_trial[(scaledsales_vs_trial[\"c_STORE_NBR\"] == cont) & (scaledsales_vs_trial[\"trial_period\"]==\"pre\")]\n",
    "    std = temp_pre[\"Sales_Percentage_Diff\"].std()\n",
    "    mean = temp_pre[\"Sales_Percentage_Diff\"].mean()\n",
    "    #print(std, mean)\n",
    "    for t_month in scaledsales_vs_trial[scaledsales_vs_trial[\"trial_period\"] == \"trial\"][\"YEARMONTH\"].unique():\n",
    "        pdif = scaledsales_vs_trial[(scaledsales_vs_trial[\"YEARMONTH\"] == t_month) & (scaledsales_vs_trial[\"t_STORE_NBR\"] == trial)][\"Sales_Percentage_Diff\"]\n",
    "        print(t_month,\":\",(float(pdif)-mean)/std)\n",
    "    print('\\n')\n",
    "    \n",
    "print(\"Critical t-value for 95% confidence interval:\")\n",
    "conf_intv_95 = t.ppf(0.95, df=len(temp_pre)-1)\n",
    "print(conf_intv_95)"
   ]
  },
  {
   "cell_type": "markdown",
   "id": "4ac7ed3d",
   "metadata": {},
   "source": [
    "There are 3 months' increase in performance that are statistically significant (Above the 95% confidence interval t-score):\n",
    "\n",
    "March and April trial months for trial store 77\n",
    "\n",
    "March trial months for trial store 86"
   ]
  },
  {
   "cell_type": "code",
   "execution_count": 35,
   "id": "761a29c3",
   "metadata": {},
   "outputs": [
    {
     "data": {
      "image/png": "[encoded data removed]",
      "text/plain": [
       "<Figure size 432x288 with 1 Axes>"
      ]
     },
     "metadata": {
      "needs_background": "light"
     },
     "output_type": "display_data"
    },
    {
     "data": {
      "image/png": "[encoded data removed]",
      "text/plain": [
       "<Figure size 432x288 with 1 Axes>"
      ]
     },
     "metadata": {
      "needs_background": "light"
     },
     "output_type": "display_data"
    },
    {
     "data": {
      "image/png": "[encoded data removed]",
      "text/plain": [
       "<Figure size 432x288 with 1 Axes>"
      ]
     },
     "metadata": {
      "needs_background": "light"
     },
     "output_type": "display_data"
    }
   ],
   "source": [
    "for trial, control in trial_control_dic.items():\n",
    "    a = trial_scaled_sales_control_stores[trial_scaled_sales_control_stores[\"STORE_NBR\"] == control].rename(columns={\"TOT_SALES\": \"control_TOT_SALES\"})\n",
    "    b = trial_full_observ[trial_full_observ[\"STORE_NBR\"] == trial][[\"STORE_NBR\", \"YEARMONTH\", \"TOT_SALES\"]].rename(columns={\"TOT_SALES\": \"trial_TOT_SALES\"})\n",
    "    comb = b[[\"YEARMONTH\", \"trial_TOT_SALES\"]].merge(a[[\"YEARMONTH\", \"control_TOT_SALES\"]],on=\"YEARMONTH\").set_index(\"YEARMONTH\")\n",
    "    comb.plot.bar()\n",
    "    cont_sc_sales = trial_scaled_sales_control_stores[trial_scaled_sales_control_stores[\"STORE_NBR\"] == control][\"TOT_SALES\"]\n",
    "    std = scaledsales_vs_trial[(scaledsales_vs_trial[\"c_STORE_NBR\"] == control) & (scaledsales_vs_trial[\"trial_period\"]==\"pre\")][\"Sales_Percentage_Diff\"].std()\n",
    "    thresh95 = cont_sc_sales.mean() + (cont_sc_sales.mean() * std * 2)\n",
    "    thresh5 = cont_sc_sales.mean() - (cont_sc_sales.mean() * std * 2)\n",
    "    plt.axhline(y=thresh95,linewidth=1, color='b', label=\"95% threshold\")\n",
    "    plt.axhline(y=thresh5,linewidth=1, color='r', label=\"5% threshold\")\n",
    "    plt.legend(loc='center left', bbox_to_anchor=(1.0, 0.5))\n",
    "    plt.title(\"Trial Store \"+str(trial)+\" and Control Store \"+str(control)+\" - Total Sales\")\n",
    "    plt.savefig(\"TS {} and CS {} - TOT_SALES.png\".format(trial,control), bbox_inches=\"tight\")"
   ]
  },
  {
   "cell_type": "code",
   "execution_count": 36,
   "id": "95443e6e",
   "metadata": {},
   "outputs": [],
   "source": [
    "#Ratio of Store 77 and its Control store.\n",
    "ncust_ratio_77 = pretrial_full_observ[pretrial_full_observ[\"STORE_NBR\"] == 77][\"nCustomers\"].sum() / pretrial_full_observ[pretrial_full_observ[\"STORE_NBR\"] == 233][\"nCustomers\"].sum()\n",
    "\n",
    "#Ratio of Store 86 and its Control store.\n",
    "ncust_ratio_86 = pretrial_full_observ[pretrial_full_observ[\"STORE_NBR\"] == 86][\"nCustomers\"].sum() / pretrial_full_observ[pretrial_full_observ[\"STORE_NBR\"] == 155][\"nCustomers\"].sum()\n",
    "\n",
    "#Ratio of Store 77 and its Control store.\n",
    "ncust_ratio_88 = pretrial_full_observ[pretrial_full_observ[\"STORE_NBR\"] == 88][\"nCustomers\"].sum() / pretrial_full_observ[pretrial_full_observ[\"STORE_NBR\"] == 40][\"nCustomers\"].sum()"
   ]
  },
  {
   "cell_type": "code",
   "execution_count": 37,
   "id": "59625f94",
   "metadata": {},
   "outputs": [
    {
     "data": {
      "image/png": "[encoded data removed]",
      "text/plain": [
       "<Figure size 432x288 with 1 Axes>"
      ]
     },
     "metadata": {
      "needs_background": "light"
     },
     "output_type": "display_data"
    },
    {
     "data": {
      "image/png": "[encoded data removed]",
      "text/plain": [
       "<Figure size 432x288 with 1 Axes>"
      ]
     },
     "metadata": {
      "needs_background": "light"
     },
     "output_type": "display_data"
    },
    {
     "data": {
      "image/png": "[encoded data removed]",
      "text/plain": [
       "<Figure size 432x288 with 1 Axes>"
      ]
     },
     "metadata": {
      "needs_background": "light"
     },
     "output_type": "display_data"
    }
   ],
   "source": [
    "#trial_full_observ = full_observ[(full_observ[\"YEARMONTH\"] >= 201902) & (full_observ[\"YEARMONTH\"] <= 201904)]\n",
    "scaled_ncust_control_stores = full_observ[full_observ[\"STORE_NBR\"].isin([233, 155, 40])][[\"STORE_NBR\", \"YEARMONTH\", \"nCustomers\"]]\n",
    "\n",
    "def scaler_c(row):\n",
    "    if row[\"STORE_NBR\"] == 233:\n",
    "        return row[\"nCustomers\"] * ncust_ratio_77\n",
    "    elif row[\"STORE_NBR\"] == 155:\n",
    "        return row[\"nCustomers\"] * ncust_ratio_86\n",
    "    elif row[\"STORE_NBR\"] == 40:\n",
    "        return row[\"nCustomers\"] * ncust_ratio_88\n",
    "\n",
    "scaled_ncust_control_stores[\"ScaledNcust\"] = scaled_ncust_control_stores.apply(lambda row: scaler_c(row), axis=1)\n",
    "\n",
    "trial_scaled_ncust_control_stores = scaled_ncust_control_stores[(scaled_ncust_control_stores[\"YEARMONTH\"] >= 201902) & (scaled_ncust_control_stores[\"YEARMONTH\"] <= 201904)]\n",
    "pretrial_scaled_ncust_control_stores = scaled_ncust_control_stores[scaled_ncust_control_stores[\"YEARMONTH\"] < 201902]\n",
    "\n",
    "ncust_percentage_diff = {}\n",
    "\n",
    "for trial, control in trial_control_dic.items():\n",
    "    a = trial_scaled_ncust_control_stores[trial_scaled_ncust_control_stores[\"STORE_NBR\"] == control]\n",
    "    b = trial_full_observ[trial_full_observ[\"STORE_NBR\"] == trial][[\"STORE_NBR\", \"YEARMONTH\", \"nCustomers\"]]\n",
    "    ncust_percentage_diff[trial] = b[\"nCustomers\"].sum() / a[\"ScaledNcust\"].sum()\n",
    "    b[[\"YEARMONTH\", \"nCustomers\"]].merge(a[[\"YEARMONTH\", \"ScaledNcust\"]],on=\"YEARMONTH\").set_index(\"YEARMONTH\").rename(columns={\"ScaledSales\":\"Scaled_Control_nCust\", \"TOT_SALES\":\"Trial_nCust\"}).plot.bar()\n",
    "    plt.legend(loc='center left', bbox_to_anchor=(1.0, 0.5))\n",
    "    plt.title(\"Trial Store \"+str(trial)+\" and Control Store \"+str(control))"
   ]
  },
  {
   "cell_type": "code",
   "execution_count": 38,
   "id": "41e5147a",
   "metadata": {},
   "outputs": [
    {
     "data": {
      "text/plain": [
       "{77: 1.2516366612111292, 86: 1.1270502473314241, 88: 1.0492326310578137}"
      ]
     },
     "execution_count": 38,
     "metadata": {},
     "output_type": "execute_result"
    }
   ],
   "source": [
    "ncust_percentage_diff"
   ]
  },
  {
   "cell_type": "code",
   "execution_count": 39,
   "id": "e055e587",
   "metadata": {},
   "outputs": [
    {
     "data": {
      "text/html": [
       "<div>\n",
       "<style scoped>\n",
       "    .dataframe tbody tr th:only-of-type {\n",
       "        vertical-align: middle;\n",
       "    }\n",
       "\n",
       "    .dataframe tbody tr th {\n",
       "        vertical-align: top;\n",
       "    }\n",
       "\n",
       "    .dataframe thead th {\n",
       "        text-align: right;\n",
       "    }\n",
       "</style>\n",
       "<table border=\"1\" class=\"dataframe\">\n",
       "  <thead>\n",
       "    <tr style=\"text-align: right;\">\n",
       "      <th></th>\n",
       "      <th>c_STORE_NBR</th>\n",
       "      <th>YEARMONTH</th>\n",
       "      <th>c_ScaledNcust</th>\n",
       "      <th>t_STORE_NBR</th>\n",
       "      <th>t_nCustomers</th>\n",
       "      <th>nCust_Percentage_Diff</th>\n",
       "      <th>trial_period</th>\n",
       "    </tr>\n",
       "  </thead>\n",
       "  <tbody>\n",
       "    <tr>\n",
       "      <th>7</th>\n",
       "      <td>233</td>\n",
       "      <td>201902</td>\n",
       "      <td>42.913043</td>\n",
       "      <td>77</td>\n",
       "      <td>40</td>\n",
       "      <td>-0.070267</td>\n",
       "      <td>trial</td>\n",
       "    </tr>\n",
       "    <tr>\n",
       "      <th>8</th>\n",
       "      <td>233</td>\n",
       "      <td>201903</td>\n",
       "      <td>35.760870</td>\n",
       "      <td>77</td>\n",
       "      <td>46</td>\n",
       "      <td>0.250465</td>\n",
       "      <td>trial</td>\n",
       "    </tr>\n",
       "    <tr>\n",
       "      <th>9</th>\n",
       "      <td>233</td>\n",
       "      <td>201904</td>\n",
       "      <td>27.586957</td>\n",
       "      <td>77</td>\n",
       "      <td>47</td>\n",
       "      <td>0.520548</td>\n",
       "      <td>trial</td>\n",
       "    </tr>\n",
       "    <tr>\n",
       "      <th>19</th>\n",
       "      <td>155</td>\n",
       "      <td>201902</td>\n",
       "      <td>92.276276</td>\n",
       "      <td>86</td>\n",
       "      <td>105</td>\n",
       "      <td>0.128994</td>\n",
       "      <td>trial</td>\n",
       "    </tr>\n",
       "    <tr>\n",
       "      <th>20</th>\n",
       "      <td>155</td>\n",
       "      <td>201903</td>\n",
       "      <td>91.273273</td>\n",
       "      <td>86</td>\n",
       "      <td>108</td>\n",
       "      <td>0.167877</td>\n",
       "      <td>trial</td>\n",
       "    </tr>\n",
       "    <tr>\n",
       "      <th>21</th>\n",
       "      <td>155</td>\n",
       "      <td>201904</td>\n",
       "      <td>93.279279</td>\n",
       "      <td>86</td>\n",
       "      <td>99</td>\n",
       "      <td>0.059504</td>\n",
       "      <td>trial</td>\n",
       "    </tr>\n",
       "    <tr>\n",
       "      <th>31</th>\n",
       "      <td>40</td>\n",
       "      <td>201902</td>\n",
       "      <td>122.627451</td>\n",
       "      <td>88</td>\n",
       "      <td>122</td>\n",
       "      <td>-0.005130</td>\n",
       "      <td>trial</td>\n",
       "    </tr>\n",
       "    <tr>\n",
       "      <th>32</th>\n",
       "      <td>40</td>\n",
       "      <td>201903</td>\n",
       "      <td>117.431373</td>\n",
       "      <td>88</td>\n",
       "      <td>133</td>\n",
       "      <td>0.124334</td>\n",
       "      <td>trial</td>\n",
       "    </tr>\n",
       "    <tr>\n",
       "      <th>33</th>\n",
       "      <td>40</td>\n",
       "      <td>201904</td>\n",
       "      <td>116.392157</td>\n",
       "      <td>88</td>\n",
       "      <td>119</td>\n",
       "      <td>0.022157</td>\n",
       "      <td>trial</td>\n",
       "    </tr>\n",
       "  </tbody>\n",
       "</table>\n",
       "</div>"
      ],
      "text/plain": [
       "    c_STORE_NBR  YEARMONTH  c_ScaledNcust  t_STORE_NBR  t_nCustomers  \\\n",
       "7           233     201902      42.913043           77            40   \n",
       "8           233     201903      35.760870           77            46   \n",
       "9           233     201904      27.586957           77            47   \n",
       "19          155     201902      92.276276           86           105   \n",
       "20          155     201903      91.273273           86           108   \n",
       "21          155     201904      93.279279           86            99   \n",
       "31           40     201902     122.627451           88           122   \n",
       "32           40     201903     117.431373           88           133   \n",
       "33           40     201904     116.392157           88           119   \n",
       "\n",
       "    nCust_Percentage_Diff trial_period  \n",
       "7               -0.070267        trial  \n",
       "8                0.250465        trial  \n",
       "9                0.520548        trial  \n",
       "19               0.128994        trial  \n",
       "20               0.167877        trial  \n",
       "21               0.059504        trial  \n",
       "31              -0.005130        trial  \n",
       "32               0.124334        trial  \n",
       "33               0.022157        trial  "
      ]
     },
     "execution_count": 39,
     "metadata": {},
     "output_type": "execute_result"
    }
   ],
   "source": [
    "temp1 = scaled_ncust_control_stores.sort_values(by=[\"STORE_NBR\", \"YEARMONTH\"], ascending=[False, True]).reset_index().drop([\"nCustomers\", \"index\"], axis=1)\n",
    "temp2 = full_observ[full_observ[\"STORE_NBR\"].isin([77,86,88])][[\"STORE_NBR\", \"YEARMONTH\", \"nCustomers\"]].reset_index().drop([\"index\", \"YEARMONTH\"], axis=1)\n",
    "scaledncust_vs_trial = pd.concat([temp1, temp2], axis=1)\n",
    "scaledncust_vs_trial.columns = [\"c_STORE_NBR\", \"YEARMONTH\", \"c_ScaledNcust\", \"t_STORE_NBR\", \"t_nCustomers\"]\n",
    "scaledncust_vs_trial[\"nCust_Percentage_Diff\"] = (scaledncust_vs_trial[\"t_nCustomers\"] - scaledncust_vs_trial[\"c_ScaledNcust\"]) / (((scaledncust_vs_trial[\"t_nCustomers\"] + scaledncust_vs_trial[\"c_ScaledNcust\"])/2))\n",
    "\n",
    "scaledncust_vs_trial[\"trial_period\"] = scaledncust_vs_trial[\"YEARMONTH\"].apply(lambda cell: label_period(cell))\n",
    "scaledncust_vs_trial[scaledncust_vs_trial[\"trial_period\"] == \"trial\"]"
   ]
  },
  {
   "cell_type": "markdown",
   "id": "3e651579",
   "metadata": {},
   "source": [
    "Check significance of Trial minus Control stores nCustomers Percentage Difference Pre-Trial vs Trial.\n",
    "\n",
    "Step 1: Check null hypothesis of 0 difference between control store's Pre-Trial and Trial period performance.\n",
    "\n",
    "Step 2: Proof control and trial stores are similar statistically\n",
    "\n",
    "Step 3: After checking Null Hypothesis of first 2 step to be true, we can check Null Hypothesis of Percentage Difference between Trial and Control stores during pre-trial is the same as during trial."
   ]
  },
  {
   "cell_type": "code",
   "execution_count": 40,
   "id": "d103b1ce",
   "metadata": {},
   "outputs": [
    {
     "name": "stdout",
     "output_type": "stream",
     "text": [
      "Store 40\n",
      "Ttest_indResult(statistic=0.5635718480314612, pvalue=0.5885700785723794) \n",
      "\n",
      "Store 155\n",
      "Ttest_indResult(statistic=1.4443707614569483, pvalue=0.19292354514578497) \n",
      "\n",
      "Store 233\n",
      "Ttest_indResult(statistic=0.9728013089400613, pvalue=0.39878209711761925) \n",
      "\n",
      "Critical t-value for 95% confidence interval:\n",
      "[-4.30265273  4.30265273]\n"
     ]
    }
   ],
   "source": [
    "# Step 1\n",
    "for num in [40, 155, 233]:\n",
    "    print(\"Store\", num)\n",
    "    print(ttest_ind(pretrial_scaled_ncust_control_stores[pretrial_scaled_ncust_control_stores[\"STORE_NBR\"] == num][\"ScaledNcust\"],\n",
    "                   trial_scaled_ncust_control_stores[trial_scaled_ncust_control_stores[\"STORE_NBR\"] == num][\"ScaledNcust\"],\n",
    "                   equal_var=False), '\\n')\n",
    "    \n",
    "alpha = 0.05\n",
    "print(\"Critical t-value for 95% confidence interval:\")\n",
    "print(t.ppf((alpha/2, 1-alpha/2), df=min([len(pretrial_scaled_ncust_control_stores[pretrial_scaled_ncust_control_stores[\"STORE_NBR\"] == num]),\n",
    "                       len(trial_scaled_ncust_control_stores[trial_scaled_ncust_control_stores[\"STORE_NBR\"] == num])])-1))"
   ]
  },
  {
   "cell_type": "code",
   "execution_count": 41,
   "id": "7cff1dc4",
   "metadata": {},
   "outputs": [
    {
     "name": "stdout",
     "output_type": "stream",
     "text": [
      "Trial store: 77 , Control store: 233\n",
      "Ttest_indResult(statistic=0.0, pvalue=1.0) \n",
      "\n",
      "Trial store: 86 , Control store: 155\n",
      "Ttest_indResult(statistic=0.0, pvalue=1.0) \n",
      "\n",
      "Trial store: 88 , Control store: 40\n",
      "Ttest_indResult(statistic=0.0, pvalue=1.0) \n",
      "\n",
      "Critical t-value for 95% confidence interval:\n",
      "[-2.44691185  2.44691185]\n"
     ]
    }
   ],
   "source": [
    "# Step 2\n",
    "for trial, cont in trial_control_dic.items():\n",
    "    print(\"Trial store:\", trial, \", Control store:\", cont)\n",
    "    print(ttest_ind(pretrial_full_observ[pretrial_full_observ[\"STORE_NBR\"] == trial][\"nCustomers\"],\n",
    "                   pretrial_scaled_ncust_control_stores[pretrial_scaled_ncust_control_stores[\"STORE_NBR\"] == cont][\"ScaledNcust\"],\n",
    "                   equal_var=True), '\\n')\n",
    "\n",
    "alpha = 0.05\n",
    "print(\"Critical t-value for 95% confidence interval:\")\n",
    "print(t.ppf((alpha/2, 1-alpha/2), df=len(pretrial_full_observ[pretrial_full_observ[\"STORE_NBR\"] == trial])-1))"
   ]
  },
  {
   "cell_type": "code",
   "execution_count": 42,
   "id": "da5fc3e9",
   "metadata": {},
   "outputs": [
    {
     "name": "stdout",
     "output_type": "stream",
     "text": [
      "Trial store: 77 , Control store: 233\n",
      "201902 : -1.6033778348003613\n",
      "201903 : 5.5462661353472695\n",
      "201904 : 11.566838770938542\n",
      "\n",
      "\n",
      "Trial store: 86 , Control store: 155\n",
      "201902 : 3.775892411526406\n",
      "201903 : 4.914998319676522\n",
      "201904 : 1.7401582372094115\n",
      "\n",
      "\n",
      "Trial store: 88 , Control store: 40\n",
      "201902 : -0.08952991281963425\n",
      "201903 : 1.4499020670055427\n",
      "201904 : 0.2349371961466534\n",
      "\n",
      "\n",
      "Critical t-value for 95% confidence interval:\n",
      "1.9431802803927816\n"
     ]
    }
   ],
   "source": [
    "# Step 3\n",
    "for trial, cont in trial_control_dic.items():\n",
    "    print(\"Trial store:\", trial, \", Control store:\", cont)\n",
    "    temp_pre = scaledncust_vs_trial[(scaledncust_vs_trial[\"c_STORE_NBR\"] == cont) & (scaledncust_vs_trial[\"trial_period\"]==\"pre\")]\n",
    "    std = temp_pre[\"nCust_Percentage_Diff\"].std()\n",
    "    mean = temp_pre[\"nCust_Percentage_Diff\"].mean()\n",
    "    #print(std, mean)\n",
    "    for t_month in scaledncust_vs_trial[scaledncust_vs_trial[\"trial_period\"] == \"trial\"][\"YEARMONTH\"].unique():\n",
    "        pdif = scaledncust_vs_trial[(scaledncust_vs_trial[\"YEARMONTH\"] == t_month) & (scaledncust_vs_trial[\"t_STORE_NBR\"] == trial)][\"nCust_Percentage_Diff\"]\n",
    "        print(t_month,\":\",(float(pdif)-mean)/std)\n",
    "    print('\\n')\n",
    "    \n",
    "print(\"Critical t-value for 95% confidence interval:\")\n",
    "conf_intv_95 = t.ppf(0.95, df=len(temp_pre)-1)\n",
    "print(conf_intv_95)"
   ]
  },
  {
   "cell_type": "markdown",
   "id": "d45ad12f",
   "metadata": {},
   "source": [
    "There are 5 months' increase in performance that are statistically significant (Above the 95% confidence interval t-score):\n",
    "\n",
    "March and April trial months for trial store 77\n",
    "\n",
    "Feb, March and April trial months for trial store 86"
   ]
  },
  {
   "cell_type": "code",
   "execution_count": 43,
   "id": "fec23f2e",
   "metadata": {},
   "outputs": [
    {
     "data": {
      "image/png": "[encoded data removed]",
      "text/plain": [
       "<Figure size 432x288 with 1 Axes>"
      ]
     },
     "metadata": {
      "needs_background": "light"
     },
     "output_type": "display_data"
    },
    {
     "data": {
      "image/png": "[encoded data removed]",
      "text/plain": [
       "<Figure size 432x288 with 1 Axes>"
      ]
     },
     "metadata": {
      "needs_background": "light"
     },
     "output_type": "display_data"
    },
    {
     "data": {
      "image/png": "[encoded data removed]",
      "text/plain": [
       "<Figure size 432x288 with 1 Axes>"
      ]
     },
     "metadata": {
      "needs_background": "light"
     },
     "output_type": "display_data"
    }
   ],
   "source": [
    "for trial, control in trial_control_dic.items():\n",
    "    a = trial_scaled_ncust_control_stores[trial_scaled_ncust_control_stores[\"STORE_NBR\"] == control].rename(columns={\"nCustomers\": \"control_nCustomers\"})\n",
    "    b = trial_full_observ[trial_full_observ[\"STORE_NBR\"] == trial][[\"STORE_NBR\", \"YEARMONTH\", \"nCustomers\"]].rename(columns={\"nCustomers\": \"trial_nCustomers\"})\n",
    "    comb = b[[\"YEARMONTH\", \"trial_nCustomers\"]].merge(a[[\"YEARMONTH\", \"control_nCustomers\"]],on=\"YEARMONTH\").set_index(\"YEARMONTH\")\n",
    "    comb.plot.bar()\n",
    "    cont_sc_ncust = trial_scaled_ncust_control_stores[trial_scaled_ncust_control_stores[\"STORE_NBR\"] == control][\"nCustomers\"]\n",
    "    std = scaledncust_vs_trial[(scaledncust_vs_trial[\"c_STORE_NBR\"] == control) & (scaledncust_vs_trial[\"trial_period\"]==\"pre\")][\"nCust_Percentage_Diff\"].std()\n",
    "    thresh95 = cont_sc_ncust.mean() + (cont_sc_ncust.mean() * std * 2)\n",
    "    thresh5 = cont_sc_ncust.mean() - (cont_sc_ncust.mean() * std * 2)\n",
    "    plt.axhline(y=thresh95,linewidth=1, color='b', label=\"95% threshold\")\n",
    "    plt.axhline(y=thresh5,linewidth=1, color='r', label=\"5% threshold\")\n",
    "    plt.legend(loc='center left', bbox_to_anchor=(1.0, 0.5))\n",
    "    plt.title(\"Trial Store \"+str(trial)+\" and Control Store \"+str(control)+\" - Number of Customers\")\n",
    "    plt.savefig(\"TS {} and CS {} - nCustomers.png\".format(trial,control), bbox_inches=\"tight\")"
   ]
  },
  {
   "cell_type": "markdown",
   "id": "deb9af82",
   "metadata": {},
   "source": [
    "We can see that Trial store 77 sales for Feb, March, and April exceeds 95% threshold of control store. Same goes to store 86 sales for all 3 trial months.\n",
    "\n",
    "1. Trial store 77: Control store 233\n",
    "2. Trial store 86: Control store 155\n",
    "3. Trial store 88: Control store 40\n",
    "4. Both trial store 77 and 86 showed significant increase in Total Sales and Number of Customers during trial period. But not for trial store 88. Perhaps the client knows if there's anything about trial 88 that differs it from the other two trial.\n",
    "5. Overall the trial showed positive significant result."
   ]
  },
  {
   "cell_type": "code",
   "execution_count": null,
   "id": "a2428e93",
   "metadata": {},
   "outputs": [],
   "source": []
  }
 ],
 "metadata": {
  "kernelspec": {
   "display_name": "Python 3 (ipykernel)",
   "language": "python",
   "name": "python3"
  },
  "language_info": {
   "codemirror_mode": {
    "name": "ipython",
    "version": 3
   },
   "file_extension": ".py",
   "mimetype": "text/x-python",
   "name": "python",
   "nbconvert_exporter": "python",
   "pygments_lexer": "ipython3",
   "version": "3.10.4"
  }
 },
 "nbformat": 4,
 "nbformat_minor": 5
}
